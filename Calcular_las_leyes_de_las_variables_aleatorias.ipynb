{
  "nbformat": 4,
  "nbformat_minor": 0,
  "metadata": {
    "colab": {
      "provenance": [],
      "authorship_tag": "ABX9TyPhWmkxsHF6sRMlNWuGb+ki",
      "include_colab_link": true
    },
    "kernelspec": {
      "name": "python3",
      "display_name": "Python 3"
    },
    "language_info": {
      "name": "python"
    }
  },
  "cells": [
    {
      "cell_type": "markdown",
      "metadata": {
        "id": "view-in-github",
        "colab_type": "text"
      },
      "source": [
        "<a href=\"https://colab.research.google.com/github/jagr0998/modelos_estadisticos/blob/main/Calcular_las_leyes_de_las_variables_aleatorias.ipynb\" target=\"_parent\"><img src=\"https://colab.research.google.com/assets/colab-badge.svg\" alt=\"Open In Colab\"/></a>"
      ]
    },
    {
      "cell_type": "markdown",
      "source": [
        "## Calcular la ley de las siguientes variables aleatorias\n",
        "\n",
        "### 2.\n",
        "*   La diferencia de las caras es mayor que 1\n",
        "*   La suma de las caras sea par\n",
        "\n",
        "### 3. Verifica en cada caso, que\n",
        " $$\\sum_{k\\in R_{X}}\\mathbb{P}(X=k) = 1$$\n",
        "\n",
        "Sea el experimento aleatorio de lanzar dos dados justos:\n",
        "* $\\Omega = \\{1,2,3,4,5,6\\}\\times \\{1,2,3,4,5,6\\} $\n",
        "* $\\mathcal{F} = P(\\Omega)$\n",
        "* Para $w=(i,j)$ donde $i,j\\in\\{1,...,6\\}$ talque\n",
        "   $$\\mathbb{P}( \\{ \\omega \\} )=\\frac{1}{36}$$\n",
        "\n",
        "Vamos a definir a la siguientes variables aleatorias:\n",
        "     $$ X:\\Omega \\to R_{X}$$\n",
        "\n",
        "donde $R_{X}=\\{0,1\\}$    \n",
        "\n",
        "Para que entendamos la ley de una v.a., basta con entender los siguientes datos\n",
        "\n",
        "$$\\{(k,\\mathbb{P}(X=k))\\}_{k\\in R_{X}}$$\n",
        "\n",
        "Vamos a entender a $S$ como eventos.\n",
        "\n",
        "Sea $X_{1}$ el evento la resta de las caras es mayor a 1.\n",
        "\n",
        "$$ X_{1} = \\{(i,j)\\in\\Omega \\mid i-j >1 \\} $$\n",
        "\n",
        "\n",
        "\n",
        "\n",
        "\n"
      ],
      "metadata": {
        "id": "FsmTg81zRwmv"
      }
    },
    {
      "cell_type": "code",
      "source": [
        "from itertools import product #para el prodcuto cartesiano\n",
        "from fractions import Fraction\n",
        "from collections import defaultdict\n",
        "import pandas as pd\n",
        "import matplotlib.pyplot as plt\n",
        "\n",
        "def P(A, Omega):\n",
        "  P = Fraction(len(A),len(Omega))\n",
        "  return P\n",
        "\n",
        "#Primero vamos a crear a nuestro espacio muestral Omega\n",
        "L = [i for i in range(1,7)] #Lista por comprensión\n",
        "#print(L)\n",
        "Omega = set(product(L, repeat=2))\n",
        "\n",
        "S = {(i,j): i-j >1 for i,j in Omega}\n",
        "dS = defaultdict(set) #lista\n",
        "for i,j in S.items():\n",
        "  dS[j].add(i) #añadiendo al diccionario las llaves\n",
        "leyS = {k : P(A,Omega) for k,A in dS.items() }\n",
        "leyS = pd.Series(leyS)\n",
        "print(leyS)\n",
        "print(\"Suma de valores\", leyS.sum())\n"
      ],
      "metadata": {
        "colab": {
          "base_uri": "https://localhost:8080/"
        },
        "id": "_Dgw80DSTnPZ",
        "outputId": "0c079575-8127-40b1-a7de-145c677159a0"
      },
      "execution_count": null,
      "outputs": [
        {
          "output_type": "stream",
          "name": "stdout",
          "text": [
            "False    13/18\n",
            "True      5/18\n",
            "dtype: object\n",
            "Suma de valores 1\n"
          ]
        }
      ]
    },
    {
      "cell_type": "markdown",
      "source": [
        "$$ V:\\Omega \\to R_{V}$$\n",
        "\n",
        "donde $R_{V}=\\{0,1\\}$    \n",
        "\n",
        "Para que entendamos la ley de una v.a., basta con entender los siguientes datos\n",
        "\n",
        "$$\\{(k,\\mathbb{P}(V=k))\\}_{k\\in R_{V}}$$\n",
        "\n",
        "Vamos a entender a $V$ como eventos.\n",
        "\n",
        "Sea $V_{1}$ el evento la suma de las caras es par.\n",
        "\n",
        "$$ V_{1} = \\{(i,j)\\in\\Omega \\mid (i+j)\\% 2 = 0 \\} $$\n"
      ],
      "metadata": {
        "id": "rFHgShYqVM1g"
      }
    },
    {
      "cell_type": "code",
      "source": [
        "V = {(i,j): (i+j)%2 == 0 for i,j in Omega}\n",
        "dV = defaultdict(set) #lista\n",
        "for i,j in V.items():\n",
        "  dV[j].add(i) #añadiendo al diccionario las llaves\n",
        "leyV = {k : P(A,Omega) for k,A in dV.items() }\n",
        "leyV = pd.Series(leyV)\n",
        "print(leyV)\n",
        "print(\"Suma de valores\", leyV.sum())"
      ],
      "metadata": {
        "colab": {
          "base_uri": "https://localhost:8080/"
        },
        "id": "AAh6_VNpWWXI",
        "outputId": "2084ea3b-0d9c-4dff-cdb9-f02cdfc54523"
      },
      "execution_count": null,
      "outputs": [
        {
          "output_type": "stream",
          "name": "stdout",
          "text": [
            "False    1/2\n",
            "True     1/2\n",
            "dtype: object\n",
            "Suma de valores 1\n"
          ]
        }
      ]
    },
    {
      "cell_type": "markdown",
      "source": [
        "### 4. Gráfica y calcula la función de distribución de la v.a. S (la suma de los resultados es n)  \n",
        "### Aquí pueden utilizar Python (para los que ya tengan conocimiento previo de matplotlib) o dibujado a mano / tablet /etc\n"
      ],
      "metadata": {
        "id": "bGtvDw0NcY26"
      }
    },
    {
      "cell_type": "code",
      "source": [
        "\n",
        "#Primero vamos a crear a nuestro espacio muestral Omega\n",
        "def P(A, Omega):\n",
        "  P = len(A)/len(Omega)\n",
        "  return P\n",
        "\n",
        "L = [i for i in range(1,7)] #Lista por comprensión\n",
        "#print(L)\n",
        "Omega = set(product(L, repeat=2))\n",
        "\n",
        "S = {(i,j): i+j  for i,j in Omega}\n",
        "dS = defaultdict(set) #lista\n",
        "for i,j in S.items():\n",
        "  dS[j].add(i) #añadiendo al diccionario las llaves\n",
        "leyS = {k : P(A,Omega) for k,A in dS.items() }\n",
        "df_S = pd.DataFrame.from_dict(leyS, orient='index', columns=['Probabilidad']\n",
        "       ).reset_index(\n",
        "       ).sort_values(by='index'\n",
        "       ).rename(columns = {'index':'suma de dos dados'}\n",
        "       ).assign(cumsum = lambda x: x['Probabilidad'].cumsum()\n",
        "       )\n",
        "df_S.plot(kind='bar', x='suma de dos dados', y='cumsum', rot=0,\n",
        "          title = \"Función de distribución de la suma de dos dados\")\n",
        "plt.show()\n",
        "\n",
        "\n"
      ],
      "metadata": {
        "colab": {
          "base_uri": "https://localhost:8080/",
          "height": 472
        },
        "id": "o94S4SnoToMb",
        "outputId": "55b1efef-f330-41cb-f4c4-d30567af8936"
      },
      "execution_count": null,
      "outputs": [
        {
          "output_type": "display_data",
          "data": {
            "text/plain": [
              "<Figure size 640x480 with 1 Axes>"
            ],
            "image/png": "[encoded data removed]"
          },
          "metadata": {}
        }
      ]
    }
  ]
}