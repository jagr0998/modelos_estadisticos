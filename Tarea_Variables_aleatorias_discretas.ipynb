{
  "cells": [
    {
      "cell_type": "markdown",
      "metadata": {
        "id": "view-in-github",
        "colab_type": "text"
      },
      "source": [
        "<a href=\"https://colab.research.google.com/github/jagr0998/modelos_estadisticos/blob/main/Tarea_Variables_aleatorias_discretas.ipynb\" target=\"_parent\"><img src=\"https://colab.research.google.com/assets/colab-badge.svg\" alt=\"Open In Colab\"/></a>"
      ]
    },
    {
      "cell_type": "markdown",
      "id": "d50d92d5",
      "metadata": {
        "id": "d50d92d5"
      },
      "source": [
        "##Sala 7\n",
        "* Guadarrama Ramírez José Angel\n",
        "* Lobato Ceja María Elena\n",
        "* Oros López Andrés\n",
        "* Transito Crescencio Luis Daniel\n",
        "\n",
        "# Variables aleatorias discretas"
      ]
    },
    {
      "cell_type": "code",
      "source": [
        "import numpy as np #Importamos el modulo NuumPy\n",
        "import numpy.random as npr #Importamosun submódulo de NumPy que se utiliza para generar números aleatorios.\n",
        "\n",
        "import scipy.stats as sps #Impotamos el modulo SciPy\n",
        "from scipy.stats import randint #Para trabajar con una distribución uniforme discreta en un rango de enteros. funcion randit\n",
        "\n",
        "import matplotlib.pyplot as plt #Matplotlib es una biblioteca de visualización de datos en Python.\n",
        "\n",
        "import random #random es el módulo estándar de Python para la generación de números aleatorios.\n",
        "\n",
        "#warnings es un módulo de Python que permite gestionar y controlar los mensajes de advertencia (warnings) que el código podría generar.\n",
        "import warnings\n",
        "warnings.filterwarnings(\"ignore\")"
      ],
      "metadata": {
        "id": "OXQyogV-nL_o"
      },
      "id": "OXQyogV-nL_o",
      "execution_count": null,
      "outputs": []
    },
    {
      "cell_type": "markdown",
      "source": [
        "# Variable aleatoria Poisson\n",
        "\n",
        "Es una distribución de probabilidad discreta que  sirve para calcular la probabilidad de que ocurra un determinado número de eventos raros durante un intervalo dado (puede ser de tiempo, longitud, área, etc.\n",
        "\n",
        "Esta variable aleatoria toma los valores sobre el conjunto $\\{0,1,2,\\dots\\}$ y tiene un parámetro $\\lambda>0$, el cual representa el número de veces que se espera que ocurra un evento durante un intervalo dado.\n",
        "\n",
        "La función de masa de probabilidades de una variable aleatoria Poisson, $X$, está dada por:\n",
        "$$f_{X}(k)=\\begin{cases}\n",
        "\te^{-\\lambda}\\frac{\\lambda^{k}}{k!} &\\quad \\text{si } k=0,1,2,\\dots \\\\\n",
        "\t0 &\\quad \\text{en otro caso}  \n",
        "\\end{cases}$$\n",
        "\n",
        "En efecto, es una función de masa de probabilidades debido a que\n",
        "$$\\begin{align*}\n",
        "\\sum_{k=0}^{\\infty}e^{-\\lambda}\\frac{\\lambda^{k}}{k!} &= e^{-\\lambda}\\sum_{k=0}^{\\infty}\\frac{\\lambda^{k}}{k!} \\\\ &= e^{-\\lambda}\\underbrace{\\left(1+\\lambda+\\frac{\\lambda^{2}}{2!}+\\frac{\\lambda^{3}}{3!}+\\cdots\\right)}_{\\text{desarrollo de Taylor de }e^{\\lambda}} \\\\ &= e^{-\\lambda}e^{\\lambda}=1.\n",
        "\\end{align*}$$\n",
        "\n",
        "**Aplicaciones**\n",
        "\n",
        "**Ejemplo:** Supongamos que el número de accidentes que ocurre en un punto tiene una distribución Poisson con parámetro $\\lambda=2$.\n",
        "* ¿Cuál es la probabilidad de que en un día ocurran más de dos accidentes?\n",
        "  $$\\begin{align*}\n",
        "\t\\mathbb{P}(X>2) &= 1-\\mathbb{P}(X\\le 2) \\\\ &=1-\\left[\\mathbb{P}(X=0)+\\mathbb{P}(X=1)+\\mathbb{P}(X=2)\\right] \\\\ &= 1-\\left[\\frac{e^{-2}2^{0}}{0!}+\\frac{e^{-2}2^{1}}{1!}+\\frac{e^{-2}2^{2}}{2!}\\right] \\\\ &= 1-e^{-2}\\left[1+2+2\\right] = 1-5e^{-2} = 0.3233\n",
        "  \\end{align*}$$\n",
        "\n",
        "* ¿Cuál es la probabilidad de que en un día ocurran más de dos accidentes, sabiendo que ocurre por lo menos uno?\n",
        "$$\\begin{align*}\n",
        "\\mathbb{P}(X>2 \\mid X\\ge 1) = \\frac{\\mathbb{P}(X>2 \\mid X\\ge 1)}{\\mathbb{P}(X\\ge 1)} = \\frac{\\mathbb{P}(X>2)}{\\mathbb{P}(X\\ge 1)} = \\frac{1-5e^{-2}}{1-e^{-2}} = \\frac{0.3233}{0.8646} = 0.3739\n",
        "\\end{align*}$$\n",
        "ya que $\\mathbb{P}(X\\ge 1)=1-\\mathbb{P}(X<1)=1-\\mathbb{P}(X=0)=1-e^{-2}$\n",
        "\n",
        "$\\color{red}{\\text{Ejercicio 3.}}$ Usando el atributo `.cdf` [Poisson](https://docs.scipy.org/doc/scipy/reference/generated/scipy.stats.poisson.html) calcula las probabilidades anteriores.\n"
      ],
      "metadata": {
        "id": "73pLB0Hmg5e4"
      },
      "id": "73pLB0Hmg5e4"
    },
    {
      "cell_type": "code",
      "source": [
        "from scipy.stats import poisson\n",
        "import math\n",
        "\n",
        "poisson.cdf(2,2) #calcula la probabilidad acumulada de que ocurran 2 o menos accidentes\n",
        "print(1-poisson.cdf(2,2)) #calcula la probabilidad de que ocurran más de 2 accidentes"
      ],
      "metadata": {
        "colab": {
          "base_uri": "https://localhost:8080/"
        },
        "id": "aQYbRBk1jBbw",
        "outputId": "fd7db3d1-2722-4f19-a771-d05d666e7a97"
      },
      "id": "aQYbRBk1jBbw",
      "execution_count": null,
      "outputs": [
        {
          "output_type": "stream",
          "name": "stdout",
          "text": [
            "0.3233235838169366\n"
          ]
        }
      ]
    },
    {
      "cell_type": "code",
      "source": [
        "print((1-poisson.cdf(2,2))/ (1-poisson.cdf(0,2))) #calcula la probabilidad de que ocurran más de 2 accidentes, sabiendo que ocurre por lo menos uno"
      ],
      "metadata": {
        "colab": {
          "base_uri": "https://localhost:8080/"
        },
        "id": "SD7hPRIirRhm",
        "outputId": "3a0b53e7-7c3b-4a35-a12d-7223cb999c29"
      },
      "id": "SD7hPRIirRhm",
      "execution_count": null,
      "outputs": [
        {
          "output_type": "stream",
          "name": "stdout",
          "text": [
            "0.37392942900133747\n"
          ]
        }
      ]
    },
    {
      "cell_type": "markdown",
      "source": [
        "## Variable aleatoria Binomial Negativa con parámetros $r\\geq 1$ y $p\\in (0,1)$.\n",
        "\n",
        "Supongamos que se realizan ensayos independientes, cada uno con probabilidad $0<p<1$ de ser un éxito, hasta obtener un total de $r$ éxitos acumulados. Sea $X$ el número de ensayos que se requieren, entonces su función de masa de probabilidades está dada por:\n",
        "$$f_{X}(k)=\\begin{cases}\n",
        "\t\\binom{n-1}{r-1}p^{r}(1-p)^{n-r} &\\quad \\text{si } n=r,r+1,\\dots \\\\\n",
        "\t\\qquad 0 &\\quad \\text{en otro caso}  \n",
        "\\end{cases}$$\n",
        "\n",
        "\n",
        "\n",
        "Notación. $X\\sim \\text{BN}(r,p)$.\n",
        "\n",
        "Se tiene que\n",
        "$$\\mathbb{E}[X]=\\frac{r}{p}$$\n",
        "y\n",
        "$$\\text{Var}[X]=\\frac{r(1-p)}{p^2}.$$\n",
        "\n",
        "$\\color{red}{\\text{Ejercicio 4.}}$ Un examen de Estadística consta de 20 preguntas tipo test y se conoce de experiencias\n",
        "anteriores que un alumno tiene probabilidad 0.7 de contestar bien cada pregunta. Obtener:\n",
        "\n",
        "a) La probabilidad de que la primera pregunta que contesta bien sea la cuarta.\n",
        "\n",
        "b) Sabiendo que para aprobar el examen es necesario contestar bien a 10 preguntas, ¿cuál es la probabilidad de que apruebe al contestar la pregunta duodécima?\n",
        "\n"
      ],
      "metadata": {
        "id": "I39XPyC-nW6W"
      },
      "id": "I39XPyC-nW6W"
    },
    {
      "cell_type": "markdown",
      "source": [
        "###a)\n",
        "Para que la primera pregunta que responda bien tenga que ser la cuarta, siginifica que las primeras 3 de manera forzosa tienen que estar mal.\n",
        "\n",
        "Probabilidad de fracaso = 1- 0.7 = 0.3\n",
        "\n",
        "$P$(primera pregunta sea la correcta) = $P$(primera sea incorrecta $\\cap$ segunda sea incorrecta $\\cap$ tercera sea incorrecta $\\cap$ cuarta sea correcta) = $P$(primera sea incorrecta)$P$(seguda sea incorrecta)$P$(tercera sea incorrecta)$P$(cuarta sea correcta)\n",
        "$$= (1-.7)^{3}(.7)=0.0189 $$\n",
        "\n",
        "\n",
        "###b)\n",
        "Para aprobar al contestar la 12va pregunta se puede ver como una v.a. con distribucion binomial negativa con $p$ = 0.7 y $r$ = 10, calculamos la probabilidad de tener 2 errores antes del 10mo exito\n",
        "\n",
        "$$ ⇒ \\mathbb{P}(X = 2) = \\binom{r+x-1}{x}p^{r}(1-p)^{x} = \\binom{10+2-1}{2}p^{10}(1-p)^{2}= \\binom{11}{2}(.7)^{10}(1-.7)^{2} = (55)(.7)^{10}(.3)^{2} ≈ .1398$$"
      ],
      "metadata": {
        "id": "aQE4v6pHuJ5r"
      },
      "id": "aQE4v6pHuJ5r"
    },
    {
      "cell_type": "markdown",
      "source": [
        "$\\color{red}{\\text{Ejercicio 5.}}$ Investigue sobre el problema de la caja de cerillos de Banach y explique su solución.\n",
        "\n",
        "Este problema trata sobre 2 cajas de cerillos con la misma cantidad inicial N, un hombre elige de manera aleatoria de la caja izquierda o derecha de manera repetida hasta que se percata que una caja esta vacia. Es decir, se repite un experimento con distribución Bernoulli($\\frac{1}{2}$) hasta que se tienen N exitos de elegir el mismo bolsillo para dejar la caja vacia, por lo que el problema de cerillos de Banach tiene una distribución Binomial Negatiava(N, $\\frac{1}{2}$)."
      ],
      "metadata": {
        "id": "YWDvCu2gj2kG"
      },
      "id": "YWDvCu2gj2kG"
    },
    {
      "cell_type": "markdown",
      "source": [
        "## Variable aleatoria Hipergeométrica con parámetros $n,N,m$.\n",
        "\n",
        "Supongamos que se elige, sin reemplazo, una muestra de tamaño $n$ de una urna que contiene $N$ bolas, de las cuales $m$ son rojas y $N-m$ son verdes. Sea $X$ el número de ebolas rojas seleccionadas, entonces su función de masa de probabilidades está dada por:\n",
        "$$f_{X}(k)=\n",
        "\t\\frac{\\binom{m}{i}\\binom{N-m}{n-i}}{\\binom{N}{n}} \\quad \\text{si } i=0,1,\\dots, n  \n",
        "$$\n",
        "\n",
        "\n",
        "\n",
        "Notación. $X\\sim \\text{Hiper}(n,N,m)$.\n",
        "\n",
        "Se tiene que\n",
        "$$\\mathbb{E}[X]=\\frac{nm}{N}$$\n",
        "y\n",
        "$$\\text{Var}[X]=\\frac{nm}{N}\\left[\\frac{(n-1)(m-1)}{N-1}+1-\\frac{nm}{N} \\right].$$\n",
        "\n",
        "**Nota.** Si $i\\leq n$ y $X\\sim \\text{Hiper}(n,N,m)$, cuando $p=\\frac{m}{N}$ y $m,N$ son muy grandes con respecto a $n$ e $i$:\n",
        "$$\\mathbb{P}(X=i)\\approx \\binom{n}{i}p^{i}(1-p)^{n-i}.$$"
      ],
      "metadata": {
        "id": "8veKIbyeoJNy"
      },
      "id": "8veKIbyeoJNy"
    },
    {
      "cell_type": "markdown",
      "source": [
        "$\\color{red}{\\text{Ejercicio 6.}}$ Una compañía petrolera realiza un estudio geológico que indica que un pozo petrolero exploratorio debería tener un 20% de posibilidades de encontrar petróleo.\n",
        "\n",
        "- ¿Cuál es la probabilidad de que el primer pozo se produzca en el tercer pozo perforado?\n",
        "\n",
        "- ¿Cuál es la probabilidad de que el tercer pozo se produzca en el séptimo pozo perforado?\n",
        "\n",
        "- ¿Cuál es la media y la varianza del número de pozos que se deben perforar si la compañía petrolera quiere establecer tres pozos productores?"
      ],
      "metadata": {
        "id": "V1rp8sMJpwiz"
      },
      "id": "V1rp8sMJpwiz"
    },
    {
      "cell_type": "markdown",
      "source": [
        "1.\n",
        "Tenemos que el experimento de que un pozo petrolero exploratorio encuentre petroleo es un experimento Bernoulli con $p$=0.2.\n",
        "\n",
        "Por lo que tener exito en el tercer pozo perforado se distribuye como una v.a. geometrica con $p$=0.2,\n",
        "\n",
        "$⇒$ $P$(el primer pozo se produzca en el tercer pozo perforado) = $(1-.2)^{2}(.2) ≈ .128$\n",
        "\n",
        "2.\n",
        "Tenemos que se deben tener 2 exitos en los primeros 6 ensayos, lo cual se puede ver como una v.a. binomial\n",
        "$$⇒ P(X=2)= \\binom{6}{2}  (.2)^{2}(1-.2)^{4} $$\n",
        "\n",
        "Entonces solo necesitamos que el 7mo pozo tenga petroleo\n",
        "\n",
        "$⇒$ $P$(el tercer pozo se produzca en el septimo perforado) =\n",
        "$$ \\binom{6}{2}  (.2)^{2}(1-.2)^{4} (.2) = 0.049152$$\n",
        "\n",
        "3.\n",
        "\n",
        "Podemos ver este expemiento como una v.a. con distribucion binomial negativa con $r$ = 3 y $p$ = 0.2.\n",
        "\n",
        "Sabemos que la media es $\\mathbb{E}[X] = \\frac{r(1-p)}{p}$ y $\\mathbb{Var}[X] = \\frac{r(1-p)}{p^{2}}$\n",
        "\n",
        "$$ ⇒ \\mathbb{E}[X] = \\frac{r(1-p)}{p} = \\frac{3(1-.2)}{.2} ≈ 12$$\n",
        "Por lo que en promedio se necesitan 12 pozos sin petroleo para encontrar 3 con petroleo, en total se harian en promedio 15 pozos.\n",
        "\n",
        "\n",
        "$$ ⇒ \\mathbb{Var}[X] = \\frac{r(1-p)}{p^{2}} = \\frac{3(1-.2)}{.2^{2}}= 60$$\n",
        "\n",
        "\n"
      ],
      "metadata": {
        "id": "a4-vRMLu8WA4"
      },
      "id": "a4-vRMLu8WA4"
    }
  ],
  "metadata": {
    "colab": {
      "provenance": [],
      "include_colab_link": true
    },
    "kernelspec": {
      "display_name": "Python 3 (ipykernel)",
      "language": "python",
      "name": "python3"
    },
    "language_info": {
      "codemirror_mode": {
        "name": "ipython",
        "version": 3
      },
      "file_extension": ".py",
      "mimetype": "text/x-python",
      "name": "python",
      "nbconvert_exporter": "python",
      "pygments_lexer": "ipython3",
      "version": "3.9.13"
    }
  },
  "nbformat": 4,
  "nbformat_minor": 5
}