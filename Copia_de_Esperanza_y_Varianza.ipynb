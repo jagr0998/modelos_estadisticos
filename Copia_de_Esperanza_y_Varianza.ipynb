{
  "nbformat": 4,
  "nbformat_minor": 0,
  "metadata": {
    "colab": {
      "provenance": [],
      "authorship_tag": "ABX9TyNie95lYB1KAsK4esMMrwgO",
      "include_colab_link": true
    },
    "kernelspec": {
      "name": "python3",
      "display_name": "Python 3"
    },
    "language_info": {
      "name": "python"
    }
  },
  "cells": [
    {
      "cell_type": "markdown",
      "metadata": {
        "id": "view-in-github",
        "colab_type": "text"
      },
      "source": [
        "<a href=\"https://colab.research.google.com/github/jagr0998/modelos_estadisticos/blob/main/Copia_de_Esperanza_y_Varianza.ipynb\" target=\"_parent\"><img src=\"https://colab.research.google.com/assets/colab-badge.svg\" alt=\"Open In Colab\"/></a>"
      ]
    },
    {
      "cell_type": "markdown",
      "source": [
        "### Esperanza y Varianza de variable aleatoria uniforme discreta"
      ],
      "metadata": {
        "id": "Dn1BlqaSXwk2"
      }
    },
    {
      "cell_type": "markdown",
      "source": [
        "Ejercicios:\n",
        "\n",
        "Sea $X$ una variable aleatoria discreta que se distribuye $Unif({\\{x_{1}, ..., x_{n}}\\} )$\n",
        "\n",
        "Donde $x_{n} - x_{1} + 1 = N$\n",
        "\n",
        "La $\\mathbb{E}[X] = \\sum_{x = x_{1}}^{x_{n}} xf(x) = \\frac{1}{N} \\sum_{x = x_{1}}^{x_{n}} x$\n",
        "\n",
        "Primero veamos que\n",
        "$$ \\sum_{x = x_{1}}^{x_{n}} x= x_{1}+ ....+x_{n}$$\n",
        "$$ \\sum_{x = x_{1}}^{x_{n}} x= x_{n}+....+x_{1}$$\n",
        "$$ ⇒ 2\\sum_{x = x_{1}}^{x_{n}} x= x_{[n+1]}+ ....+x_{[n+1]} = N(x_{[n+1]})$$\n",
        "$$ ⇒ \\sum_{x = x_{1}}^{x_{n}} x=  \\frac{N(x_{[n+1]})}{2} = \\frac{N(x_{1} + x_{n})}{2}$$\n",
        "$$ ⇒ \\mathbb{E}[X] =\\frac{1}{N} \\sum_{x = x_{1}}^{x_{n}} x =\\frac{1}{N}  \\frac{N(x_{1} + x_{n})}{2} = \\frac{(x_{1} + x_{n})}{2}$$\n",
        "$$⇒ \\mathbb{E}[X] = \\frac{(x_{1} + x_{n})}{2}$$\n"
      ],
      "metadata": {
        "id": "eavD6HRuX5cX"
      }
    },
    {
      "cell_type": "markdown",
      "source": [
        "Por otro lado, $\\mathbb{Var}[X] = \\mathbb{E}[X^{2}] - (\\mathbb{E}[X])^{2}$\n",
        "\n",
        "$$ ⇒ \\mathbb{E}[X^{2}] =\\frac{1}{N} \\sum_{x = x_{1}}^{x_{n}} x^{2} $$\n",
        "\n",
        "Sea $y= x -x_{1} +1 → x= y +x_{1} -1$\n",
        "\n",
        "\n",
        "$$ ⇒ \\frac{1}{N} \\sum_{x = x_{1}}^{x_{n}} x^{2} = \\frac{1}{N} \\sum_{y = 1}^{x_{n} - x_{1} + 1} (y +(x_{1} -1))^{2}$$\n",
        "\n",
        "$$ ⇒ =\\frac{1}{N} \\sum_{y = 1}^{x_{n} - x_{1} + 1} (y^{2} +2y(x_{1} -1) + (x_{1} -1)^{2})$$\n",
        "\n",
        "$$ ⇒ =\\frac{1}{N} [ \\sum_{y = 1}^{x_{n} - x_{1} + 1}y^{2} +2(x_{1} -1)\\sum_{y = 1}^{x_{n} - x_{1} + 1}y + N(x_{1} -1)^{2} ]$$\n",
        "\n",
        "$$ ⇒ =\\frac{1}{N} [ \\frac{(N)(N+1)(2N+1)}{6} +2(x_{1} -1)\\frac{N(N+1)}{2} + N(x_{1} -1)^{2} ]$$\n",
        "\n",
        "$$ ⇒ =\\frac{N}{N} [ \\frac{(N+1)(2N+1)}{6} +(x_{1} -1)(N+1) + (x_{1} -1)^{2} ]$$\n",
        "\n",
        "$$ ⇒ = (N+1)[ \\frac{2N+1 + 6(x_{1} -1)}{6}] + (x_{1} -1)^{2} $$\n",
        "\n",
        "\n",
        "$$ ⇒ \\mathbb{E}[X^{2}] = (N+1)[ \\frac{2N + 6x_{1} -5}{6}] + (x_{1} -1)^{2}$$\n",
        "\n",
        "\n",
        "Finalmente calculemos la varianza\n",
        "$$⇒ \\mathbb{Var}[X] = (N+1)[ \\frac{2N + 6x_{1} -5}{6}] + (x_{1} -1)^{2} - (\\frac{x_{1} + x_{n}}{2})^{2} $$\n",
        "\n",
        "Por un lado\n",
        "$$ (x_{1} -1)^{2} - (\\frac{x_{1} + x_{n}}{2})^{2}  = ((x_{1} -1) - (\\frac{x_{1} + x_{n}}{2}) )((x_{1} -1) + (\\frac{x_{1} + x_{n}}{2}))$$\n",
        "$$ ⇒ = (\\frac{2x_{1}-2-x_{1}-x_{n}}{2})( (\\frac{2x_{1}-2+x_{1}+x_{n}}{2}))$$\n",
        "$$ ⇒ = (\\frac{x_{1}-2-x_{n}}{2})( (\\frac{3x_{1}-2+x_{n}}{2}))$$\n",
        "$$ ⇒ = (\\frac{+x_{n}-x_{1}+2}{2})( (\\frac{-3x_{1}+2-x_{n}}{2}))$$\n",
        "$$ ⇒ = \\frac{(N+1)(-3x_{1}+2-x_{n})}{4}$$\n",
        "\n",
        "$$⇒ \\mathbb{Var}[X] = (N+1)[ \\frac{2N + 6x_{1} -5}{6}] + \\frac{(N+1)(-3x_{1}+2-x_{n})}{4} $$\n",
        "\n",
        "$$⇒ = (N+1)[ \\frac{2N + 6x_{1} -5}{6} + \\frac{(-3x_{1}+2-x_{n})}{4} ]$$\n",
        "$$⇒ = (N+1)[ \\frac{4N + 12x_{1} -10 -9x_{1}+6-3x_{n}}{12} ]$$\n",
        "$$⇒ = (N+1)[ \\frac{4N + 3x_{1} -4-3x_{n}}{12} ]$$\n",
        "$$⇒ = (N+1)[ \\frac{4x_{n}-4x_{1}+4 + 3x_{1} -4-3x_{n}}{12} ]$$\n",
        "$$⇒ = (N+1)[ \\frac{x_{n}-x_{1}}{12} ]$$\n",
        "$$⇒ = \\frac{[(x_{n}-x_{1}+1)+1][(x_{n}-x_{1}+1)-1]}{12} $$\n",
        "$$⇒ = \\frac{(x_{n}-x_{1}+1)^{2}-1^{2}}{12} $$\n",
        "\n",
        "\n",
        "$$⇒ \\mathbb{Var}[X] = \\frac{(x_{n} - x_{1} +1)^{2}-1}{12}$$\n",
        "\n"
      ],
      "metadata": {
        "id": "EXsTq_7xX7Me"
      }
    }
  ]
}