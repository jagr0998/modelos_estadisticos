{
  "nbformat": 4,
  "nbformat_minor": 0,
  "metadata": {
    "colab": {
      "provenance": [],
      "include_colab_link": true
    },
    "kernelspec": {
      "name": "python3",
      "display_name": "Python 3"
    },
    "language_info": {
      "name": "python"
    }
  },
  "cells": [
    {
      "cell_type": "markdown",
      "metadata": {
        "id": "view-in-github",
        "colab_type": "text"
      },
      "source": [
        "<a href=\"https://colab.research.google.com/github/jagr0998/modelos_estadisticos/blob/main/Tarea_de_EMV.ipynb\" target=\"_parent\"><img src=\"https://colab.research.google.com/assets/colab-badge.svg\" alt=\"Open In Colab\"/></a>"
      ]
    },
    {
      "cell_type": "markdown",
      "source": [
        "# Estimador Máximo Verosímil"
      ],
      "metadata": {
        "id": "Em2OBs9LNUlE"
      }
    },
    {
      "cell_type": "markdown",
      "source": [
        "Tarea.\n",
        "\n",
        "- Una v.a $X$, es exponencial con parámetro $\\lambda >0$ si $$\\mathbb{P}(X)=1-e^{-\\lambda x}, x >0 $$\n",
        "Calcular el EMV\n",
        "\n",
        "- Supongamos que la vida útil de los focos de cierta marca se modela mediante una distribución exponencial con parámetro desconocido $\\lambda$. Probamos 5 focos y encontramops que la vida útil de $2,3,1,3$ y $4$ años respectivamente. ¿Cual es el EMV para $\\lambda$?\n"
      ],
      "metadata": {
        "id": "KS4jg0dScAGR"
      }
    },
    {
      "cell_type": "markdown",
      "source": [
        "Queremos máximixar $P(D;p)$\n",
        "tenemos que $f(x|λ) = λe^{-λx}$\n",
        "\n",
        "La función de verosimilitud esta dada por\n",
        "\n",
        "$$ ⇒  ∏_{i=1}^{n}f(x_{i}|λ) = ∏_{i=1}^{n} λe^{-λx_{i}} = λ^{n}e^{-λ ∑_{i}x_{i}}$$\n",
        "\n",
        "Aplicando $log$\n",
        "$$ ⇒  log(λ^{n}e^{-λ ∑_{i}x_{i}}) = n log(λ) - λlog(e^{ ∑_{i}x_{i}})  = n log(λ) - λ∑_{i}x_{i} $$\n",
        "\n",
        "\n",
        "$$⇒ \\frac{d log(L(λ|x))}{dλ} = (n log(λ) - λ∑_{i}x_{i})' = 0$$\n",
        "$$⇒(\\frac{n}{λ} - ∑_{i}x_{i}) = 0$$\n",
        "$$⇒ λ_{EMV} = \\frac{n}{∑_{i}x_{i}}  $$\n",
        "\n",
        "\n",
        "Por lo tanto en el ejemplo tenemos que,\n",
        "\n",
        "$$⇒ λ_{EMV} = \\frac{n}{∑_{i}x_{i}} = \\frac{5}{2+3+1+3+4} = \\frac{5}{13}$$"
      ],
      "metadata": {
        "id": "pJp-Xz4TrvUY"
      }
    }
  ]
}