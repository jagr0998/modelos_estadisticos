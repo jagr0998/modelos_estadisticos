{
  "nbformat": 4,
  "nbformat_minor": 0,
  "metadata": {
    "colab": {
      "provenance": [],
      "authorship_tag": "ABX9TyMsLXPckrBtI61aNuaJxETY",
      "include_colab_link": true
    },
    "kernelspec": {
      "name": "python3",
      "display_name": "Python 3"
    },
    "language_info": {
      "name": "python"
    }
  },
  "cells": [
    {
      "cell_type": "markdown",
      "metadata": {
        "id": "view-in-github",
        "colab_type": "text"
      },
      "source": [
        "<a href=\"https://colab.research.google.com/github/jagr0998/modelos_estadisticos/blob/main/Experimento_del_lanzamiento_de_una_moneda_3_veces.ipynb\" target=\"_parent\"><img src=\"https://colab.research.google.com/assets/colab-badge.svg\" alt=\"Open In Colab\"/></a>"
      ]
    },
    {
      "cell_type": "markdown",
      "source": [
        "##Sala 7\n",
        "* Guadarrama Ramírez José Angel\n",
        "* Lobato Ceja María Elena\n",
        "* Oros López Andrés\n",
        "* Transito Crescencio Luis Daniel\n",
        "\n",
        "1. Salga aguila en 3 volados\n",
        "2. Salga sol en 3 volados\n",
        "3. Salga sol en al menos un volado"
      ],
      "metadata": {
        "id": "buM4nz9FoCyP"
      }
    },
    {
      "cell_type": "code",
      "source": [
        "from fractions import Fraction\n",
        "from itertools import product"
      ],
      "metadata": {
        "id": "6_b0HFA0q7xq"
      },
      "execution_count": null,
      "outputs": []
    },
    {
      "cell_type": "markdown",
      "source": [
        "1. En este caso tenemos 3 variables aleatorias independientes $X_{1}, X_{2}, X_{3}$, en cada una $P(X=sol) = .5$ y $P(X=aguila) = .5$\n",
        "\n",
        "Entonces buscamos $P(X_{1} = aguila \\cap X_{2} = aguila \\cap X_{3} = aguila) = P(X_{1} = aguila)P(X_{2} = aguila)P(X_{3} = aguila) = (.5)(.5)(.5) = 1/8$ ya que $X_{1}, X_{2}, X_{3} $ son v.a. independientes"
      ],
      "metadata": {
        "id": "WB_3vZQGo8tA"
      }
    },
    {
      "cell_type": "code",
      "execution_count": null,
      "metadata": {
        "colab": {
          "base_uri": "https://localhost:8080/"
        },
        "id": "MFwoHl9an9KJ",
        "outputId": "2eba9eea-c3f7-4dd3-e575-bb631eff89fa"
      },
      "outputs": [
        {
          "output_type": "execute_result",
          "data": {
            "text/plain": [
              "Fraction(1, 8)"
            ]
          },
          "metadata": {},
          "execution_count": 6
        }
      ],
      "source": [
        "\n",
        "Fraction((.5)*(.5)*(.5))"
      ]
    },
    {
      "cell_type": "code",
      "source": [
        "omega = set(product(['A','S'],repeat = 3))"
      ],
      "metadata": {
        "id": "-HW5-CI2tCa4"
      },
      "execution_count": null,
      "outputs": []
    },
    {
      "cell_type": "code",
      "source": [
        "Fraction( len([om for om in omega if om[0] == 'A' and om[1] == 'A' and om[2] == 'A']) / len(omega))"
      ],
      "metadata": {
        "colab": {
          "base_uri": "https://localhost:8080/"
        },
        "id": "xUItYl6ZtnJb",
        "outputId": "54fb6ed3-404e-44f5-c28f-5e208843e40a"
      },
      "execution_count": null,
      "outputs": [
        {
          "output_type": "execute_result",
          "data": {
            "text/plain": [
              "0.125"
            ]
          },
          "metadata": {},
          "execution_count": 20
        }
      ]
    },
    {
      "cell_type": "markdown",
      "source": [
        "2. Entonces buscamos $P(X_{1} = sol \\cap X_{2} = sol \\cap X_{3} = sol) = P(X_{1} = sol)P(X_{2} = sol)P(X_{3} = sol) = (.5)(.5)(.5) = 1/8$ ya que $X_{1}, X_{2}, X_{3} $ son v.a. independientes"
      ],
      "metadata": {
        "id": "2CjUMEB-qzLV"
      }
    },
    {
      "cell_type": "code",
      "source": [
        "Fraction( len([om for om in omega if om[0] == 'S' and om[1] == 'S' and om[2] == 'S']) / len(omega))"
      ],
      "metadata": {
        "colab": {
          "base_uri": "https://localhost:8080/"
        },
        "id": "SkGNLLYRunD-",
        "outputId": "4b968767-0e38-4251-d1ad-23b28cb58733"
      },
      "execution_count": null,
      "outputs": [
        {
          "output_type": "execute_result",
          "data": {
            "text/plain": [
              "Fraction(1, 8)"
            ]
          },
          "metadata": {},
          "execution_count": 21
        }
      ]
    },
    {
      "cell_type": "code",
      "source": [
        "Fraction((.5)*(.5)*(.5))"
      ],
      "metadata": {
        "colab": {
          "base_uri": "https://localhost:8080/"
        },
        "id": "faIZU1C_rFsH",
        "outputId": "eb703999-f9bc-44be-a7d2-fda67244553e"
      },
      "execution_count": null,
      "outputs": [
        {
          "output_type": "execute_result",
          "data": {
            "text/plain": [
              "Fraction(1, 8)"
            ]
          },
          "metadata": {},
          "execution_count": 7
        }
      ]
    },
    {
      "cell_type": "markdown",
      "source": [
        "3. En este caso el evento que salga al menos un sol es complemento del evento que salga aguila en todos los volados\n",
        "$P($salga al menos una vez sol$)$ + $P($salga al menos una vez sol$) = 1$.\n",
        "Considerando que $P($salga al menos una vez sol$)$ = $P($salgan todas las veces aguila$)$. $P($salga al menos una vez sol$)$ = 1- $P($salgan todas las veces aguila$) = 1- 1/8 = 7/8$"
      ],
      "metadata": {
        "id": "8yJA6HblrHwD"
      }
    },
    {
      "cell_type": "code",
      "source": [
        "Fraction( len([om for om in omega if om[0] == 'S' or om[1] == 'S' or om[2] == 'S']) / len(omega))"
      ],
      "metadata": {
        "colab": {
          "base_uri": "https://localhost:8080/"
        },
        "id": "5mESmplMuut5",
        "outputId": "1908729c-539c-4d19-ab39-b0ad7ffffd61"
      },
      "execution_count": null,
      "outputs": [
        {
          "output_type": "execute_result",
          "data": {
            "text/plain": [
              "Fraction(7, 8)"
            ]
          },
          "metadata": {},
          "execution_count": 22
        }
      ]
    }
  ]
}