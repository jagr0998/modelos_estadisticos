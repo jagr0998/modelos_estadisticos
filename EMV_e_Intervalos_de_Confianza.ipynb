{
  "nbformat": 4,
  "nbformat_minor": 0,
  "metadata": {
    "colab": {
      "provenance": [],
      "include_colab_link": true
    },
    "kernelspec": {
      "name": "python3",
      "display_name": "Python 3"
    },
    "language_info": {
      "name": "python"
    }
  },
  "cells": [
    {
      "cell_type": "markdown",
      "metadata": {
        "id": "view-in-github",
        "colab_type": "text"
      },
      "source": [
        "<a href=\"https://colab.research.google.com/github/jagr0998/modelos_estadisticos/blob/main/EMV_e_Intervalos_de_Confianza.ipynb\" target=\"_parent\"><img src=\"https://colab.research.google.com/assets/colab-badge.svg\" alt=\"Open In Colab\"/></a>"
      ]
    },
    {
      "cell_type": "markdown",
      "source": [
        "##Sala 7\n",
        "* Guadarrama Ramírez José Angel\n",
        "* Lobato Ceja María Elena\n",
        "* Oros López Andrés\n",
        "* Transito Crescencio Luis Daniel\n",
        "\n",
        "# Estimador Máximo Verósimil\n",
        "\n",
        "- Una v.a $X$, es exponencial con parámetro $\\lambda >0$ si $$\\mathbb{P}(X)=1-e^{-\\lambda x}, x >0 $$\n",
        "Calcular el EMV\n",
        "\n",
        "- Supongamos que la vida útil de los focos de cierta marca se modela mediante una distribución exponencial con parámetro desconocido $\\lambda$. Probamos 5 focos y encontramos que la vida útil de $2,3,1,3$ y $4$ años respectivamente. ¿Cual es el EMV para $\\lambda$?\n",
        "- Suponga que se tiene una variable aleatoria discreta $X$ con densidad:\n",
        "\t\\begin{align*}\n",
        "\tP(X=0)&=\\frac{2}{3}\\theta,\\\\\n",
        "\tP(X=1)&=\\frac{1}{3}\\theta,\\\\\n",
        "\tP(X=2)&=\\frac{2}{3}(1-\\theta),\\\\\n",
        "\tP(X=3)&=\\frac{1}{3}(1-\\theta)\n",
        "\t\\end{align*}\n",
        "  con $\\theta\\in [0,1]$. Se toman las siguientes $10$ observaciones independientes de acuerdo a la distribución dada:\n",
        "  $$(3, 0, 2, 1, 3, 2, 1, 0, 2, 1).$$\n",
        "  Encuentra el EMV de $\\theta$."
      ],
      "metadata": {
        "id": "Em2OBs9LNUlE"
      }
    },
    {
      "cell_type": "markdown",
      "source": [
        "## Soluciones EMV\n",
        "\n",
        "\n",
        "\n",
        "## 1.\n",
        "\n",
        "Estimaremos λ\n",
        "tenemos que $f(x,λ) = λe^{-λx}$\n",
        "\n",
        "La función de verosimilitud esta dada por\n",
        "\n",
        "$$ ⇒ L(λ) =  ∏_{i=1}^{n}f(x_{i},λ) = ∏_{i=1}^{n} λe^{-λx_{i}} = λ^{n}e^{-λ ∑_{i}x_{i}}$$\n",
        "\n",
        "Aplicando $log$\n",
        "$$ ⇒  log(λ^{n}e^{-λ ∑_{i}x_{i}}) = n log(λ) - λlog(e^{ ∑_{i}x_{i}})  = n log(λ) - λ∑_{i}x_{i} $$\n",
        "\n",
        "\n",
        "$$⇒ \\frac{d log(L(λ))}{dλ} = (n log(λ) - λ∑_{i}x_{i})' = 0$$\n",
        "$$⇒(\\frac{n}{λ} - ∑_{i}x_{i}) = 0$$\n",
        "$$⇒ \\hat{λ}_{EMV} = \\frac{n}{∑_{i}x_{i}}  $$\n",
        "\n",
        "\n",
        "## 2.\n",
        "Por lo tanto en el ejemplo tenemos que,\n",
        "\n",
        "$$⇒ \\hat{λ}_{EMV} = \\frac{n}{∑_{i}x_{i}} = \\frac{5}{2+3+1+3+4} = \\frac{5}{13}$$"
      ],
      "metadata": {
        "id": "pJp-Xz4TrvUY"
      }
    },
    {
      "cell_type": "code",
      "source": [
        "x = [2,3,1,3,4]\n",
        "n = 5\n",
        "suma = sum (x)\n",
        "\n",
        "lamhat = n/suma\n",
        "print(lamhat)"
      ],
      "metadata": {
        "colab": {
          "base_uri": "https://localhost:8080/"
        },
        "id": "WMA0mucvFdfI",
        "outputId": "cdf8f645-5f0a-4d20-b0f2-4da1704ac540"
      },
      "execution_count": 1,
      "outputs": [
        {
          "output_type": "stream",
          "name": "stdout",
          "text": [
            "0.38461538461538464\n"
          ]
        }
      ]
    },
    {
      "cell_type": "markdown",
      "source": [
        "## 3.\n",
        "Tenemos la muestra (3, 0, 2, 1, 3, 2, 1, 0, 2, 1)\n",
        "\n",
        "$$ ⇒ L(θ) =  ∏_{i=1}^{n}f(x_{i},θ) = f(0,θ)^{2}f(1,θ)^{3}f(2,θ)^{3}f(3,θ)^{2}$$\n",
        "\n",
        "$$ ⇒ L(θ) = (\\frac{2}{3}θ)^{2}(\\frac{1}{3}θ)^{3}(\\frac{2}{3}(1-θ))^{3}(\\frac{1}{3}(1-θ))^{2} = \\frac{2^{2+3}}{3^{2+3+3+2}}(θ)^{2+3}(1-θ)^{2+3} = \\frac{2^{5}}{3^{10}}(θ)^{5}(1-θ)^{5}$$\n",
        "\n",
        "Aplicando $log$\n",
        "$$ ⇒  log(\\frac{2^{5}}{3^{10}}(θ)^{5}(1-θ)^{5}) =  log(\\frac{2^{5}}{3^{10}}) + 5log(θ) + 5log(1-θ)$$\n",
        "\n",
        "\n",
        "$$⇒ \\frac{d log(L(θ))}{dθ} = (log(\\frac{2^{5}}{3^{10}}) + 5log(θ) + 5log(1-θ))' = 0$$\n",
        "\n",
        "$$⇒\\frac{5}{θ} - \\frac{5}{1-θ} = 0$$\n",
        "\n",
        "$$⇒\\frac{5}{θ} = \\frac{5}{1-θ} $$\n",
        "\n",
        "$$⇒5-5θ = 5θ $$\n",
        "\n",
        "\n",
        "\n",
        "Por lo tanto en el ejemplo tenemos que,\n",
        "\n",
        "$$⇒ \\hat{θ}_{EMV} = \\frac{1}{2} $$"
      ],
      "metadata": {
        "id": "u6p20HoJ9cx4"
      }
    },
    {
      "cell_type": "code",
      "source": [
        "from scipy.stats import expon\n",
        "import numpy as np\n",
        "import sympy # para calculo simbolico y algebraico\n",
        "from sympy.abc import x,z,n\n",
        "\n",
        "# Vamos a crear una variable simbolica p\n",
        "t = sympy.symbols('t',positive=True)\n",
        "\n",
        "f0 = (2/3)*t\n",
        "f1 = (1/3)*t\n",
        "f2 = (2/3)*(1-t)\n",
        "f3 = (1/3)*(1-t)\n",
        "J = (2*f0)*(3*f1)*(3*f2)*(2*f3) #funcion de verosimilitud\n",
        "logJ = sympy.expand_log(sympy.log(J)) #log de la verosimilitud\n",
        "that = sympy.solve(sympy.diff(logJ,t),t)[0] #EMV\n",
        "print(\"El estimador de maxima verosimilitud es\", that)"
      ],
      "metadata": {
        "colab": {
          "base_uri": "https://localhost:8080/"
        },
        "id": "Laokz8HcFqeX",
        "outputId": "7893009e-eb76-4962-9a61-7bb4b6aee1fb"
      },
      "execution_count": 2,
      "outputs": [
        {
          "output_type": "stream",
          "name": "stdout",
          "text": [
            "El estimador de maxima verosimilitud es 0.500000000000000\n"
          ]
        }
      ]
    },
    {
      "cell_type": "markdown",
      "source": [
        "# Intervalos de confianza\n",
        "\n",
        "- En una encuesta de la UP, 225 estudiantes son seleccionados al azar de los que toman cálculo y se les pregunta si cálculo es su materia favorita. 100 estudiantes responden que el cálculo es su materia favorita. Proporcione un intervalo de confianza del 95 %  para la proporción de todos los estudiantes que toman cálculo y que la consideran su materia favorita.  \n",
        "\n",
        "- Los datos\n",
        "\t$$1, 2, 3, 4$$\n",
        "  se toman a partir de una distribución normal $N(\\mu,\\sigma^2)$ con $\\mu$ desconocida.\n",
        "  1. Encuentra un intervalo de confianza al nivel de $90\\%$ para $\\mu$, dado que $\\sigma =2$.\n",
        "  2. Encuentra un intervalo de confianza al nivel de $90\\%$ para $\\mu$.\n",
        "  3. Encuentra un intervalo de confianza al nivel de $90\\%$ para $\\sigma^2$."
      ],
      "metadata": {
        "id": "8GwPvuzfoBJ4"
      }
    },
    {
      "cell_type": "markdown",
      "source": [],
      "metadata": {
        "id": "Jw7G5YSYuMKl"
      }
    },
    {
      "cell_type": "code",
      "source": [
        "import scipy.stats as stats\n",
        "import statsmodels.api as sm\n",
        "import numpy as np\n",
        "import scipy.stats as st\n",
        "\n",
        "k=4\n",
        "#1\n",
        "alpha = 1-.95\n",
        "z_1 = round(stats.norm.ppf(q = 1-alpha/2), 2)\n",
        "\n",
        "#2.1\n",
        "alpha = 1-.9\n",
        "z_2 = round(stats.norm.ppf(q = 1-alpha/2), 2)\n",
        "\n",
        "#2.2\n",
        "t = round(stats.t.ppf(1-alpha/2, k-1), 2)\n",
        "\n",
        "#2.3\n",
        "x_1 = round(stats.chi2.ppf(1-alpha/2, k-1), 2)\n",
        "x_2 = round(stats.chi2.ppf(alpha/2, k-1), 2)"
      ],
      "metadata": {
        "id": "kYIyPipzdPP2"
      },
      "execution_count": 6,
      "outputs": []
    },
    {
      "cell_type": "code",
      "source": [
        "\n",
        "print(z_1, z_2, t, x_1, x_2)"
      ],
      "metadata": {
        "colab": {
          "base_uri": "https://localhost:8080/"
        },
        "id": "q5A-NXPeeDxL",
        "outputId": "68e2147e-85a4-4354-8e9e-9a4a9cbba279"
      },
      "execution_count": null,
      "outputs": [
        {
          "output_type": "stream",
          "name": "stdout",
          "text": [
            "1.96 1.64 2.35 7.81 0.35\n"
          ]
        }
      ]
    },
    {
      "cell_type": "markdown",
      "source": [
        "## Soluciones IC\n",
        "\n",
        "## 1.Proporcione un intervalo de confianza del 95 %  para la proporción de todos los estudiantes que toman cálculo y que la consideran su materia favorita.\n",
        "\n",
        "Tenemos ciertos datos, como el tamaño de la muestra $n = 225 $ y $x = 100$ (estudiantes que toman cálculo y que la consideran su materia favorita), asi que podemos tomar la proporción $\\hat{p}$ como:\n",
        "$$\\hat{p} = \\frac{x}{n} ≈ .44$$\n",
        "\n",
        "Tambien sabemos que la desviación estandár de la proporción esta dada por\n",
        "$$ σ_{\\hat{p}} = \\sqrt{\\frac{\\hat{p}(1-\\hat{p})}{n}}$$\n",
        "\n",
        "$$ σ_{\\hat{p}} = \\sqrt{\\frac{\\frac{100}{225}(\\frac{125}{225})}{225}}≈ .03$$\n",
        "\n",
        "El valor critico $z$ para un nivel de confianza del 95%\n",
        "$$ z_{α/2} = z_{.05/2} ≈ 1.96$$\n",
        "\n",
        "Nuestro intervalo de confianza esta dado por\n",
        "\n",
        "\n",
        "$$ IC = (\\hat{p}-zσ_{\\hat{p}}, \\hat{p}+zσ_{\\hat{p}})$$\n",
        "\n",
        "$$ IC = (\\frac{100}{225}-(1.96)\\sqrt{\\frac{\\frac{100}{225}(\\frac{125}{225})}{225}}, \\frac{100}{225}+(1.96)\\sqrt{\\frac{\\frac{100}{225}(\\frac{125}{225})}{225}})$$\n",
        "\n",
        "Por lo tanto, el IC al 95% de confianza es aproximadamente $(0.379, 0.509)$ para la proporción de todos los estudiantes que toman cálculo y que la consideran su materia favorita\n"
      ],
      "metadata": {
        "id": "PKg2Z0dRoTa9"
      }
    },
    {
      "cell_type": "code",
      "source": [
        "p = 100\n",
        "confidence = 0.95\n",
        "n = 225\n",
        "\n",
        "conf_int = sm.stats.proportion_confint(p, n, alpha=(1-confidence), method='normal')\n",
        "\n",
        "print(\"Intervalo de confianza:\", conf_int)"
      ],
      "metadata": {
        "colab": {
          "base_uri": "https://localhost:8080/"
        },
        "id": "vRzuyfjVF8fK",
        "outputId": "7a7b8b2b-64db-4684-abc1-0e373ace37b8"
      },
      "execution_count": 5,
      "outputs": [
        {
          "output_type": "stream",
          "name": "stdout",
          "text": [
            "Intervalo de confianza: (0.37951684884617914, 0.5093720400427098)\n"
          ]
        }
      ]
    },
    {
      "cell_type": "markdown",
      "source": [
        "## 2.1 Estimación de la media con $σ$ conocida\n",
        "\n",
        "\n",
        "Tenemos ciertos datos, como el tamaño de la muestra $n = 4 $ y que distribución normal $N(μ,σ^2)$ dado que $σ =2$, asi que podemos calcular la media muestral\n",
        "\n",
        "\n",
        "$$\\bar{x} = \\frac{1+2+3+4}{n} = \\frac{10}{4} = 2.5$$\n",
        "\n",
        "El valor critico $z$ para un nivel de confianza del 90%\n",
        "$$ z_{α/2} = z_{.10/2} ≈ 1.64$$\n",
        "\n",
        "Nuestro intervalo de confianza esta dado por\n",
        "$$ IC = (\\bar{x}-z\\frac{σ}{\\sqrt{n}}, \\bar{x}+z\\frac{σ}{\\sqrt{n}})$$\n",
        "\n",
        "$$ IC = (2.5-(1.64)\\frac{2}{\\sqrt{4}}, 2.5+(1.64)\\frac{2}{\\sqrt{4}})$$\n",
        "\n",
        "Por lo tanto, el IC al 90% de confianza es aproximadamente $(0.86, 4.14)$ para la media con σ conocida\n"
      ],
      "metadata": {
        "id": "Dk3gwfo9s-la"
      }
    },
    {
      "cell_type": "code",
      "source": [
        "data = [1,2,3,4]\n",
        "# Tamaño de la muestra\n",
        "n = len(data)\n",
        "\n",
        "# Media muestral\n",
        "mean = np.mean(data)\n",
        "\n",
        "# Desviación estándar conocida (sigma)\n",
        "sigma = 2\n",
        "confidence = 0.90\n",
        "# Nivel de confianza\n",
        "alpha = 1-confidence\n",
        "z = st.norm.ppf(1 - alpha / 2)  # Valor crítico de z\n",
        "\n",
        "# Calcular el intervalo de confianza\n",
        "margin_of_error = z * (sigma / np.sqrt(n))\n",
        "conf_int = (mean - margin_of_error, mean + margin_of_error)\n",
        "\n",
        "print(\"Intervalo de confianza para la media:\", conf_int)"
      ],
      "metadata": {
        "colab": {
          "base_uri": "https://localhost:8080/"
        },
        "id": "WwbU1I0wGIWJ",
        "outputId": "09192b3d-fdd9-4059-e141-c32f6e453fcb"
      },
      "execution_count": 7,
      "outputs": [
        {
          "output_type": "stream",
          "name": "stdout",
          "text": [
            "Intervalo de confianza para la media: (0.8551463730485278, 4.144853626951472)\n"
          ]
        }
      ]
    },
    {
      "cell_type": "markdown",
      "source": [
        "\n",
        "## 2.2 Estimación de la media con $σ$ desconocida\n",
        "\n",
        "Sabemos que el tamaño de la muestra $n = 4 $ y la media muestral es $\\bar{x}=2.5 $\n",
        "\n",
        "Calculemos $s$ de la muestra\n",
        "\n",
        "$$ ⇒ s = \\sqrt{\\frac{(\\bar{x}-1)^{2} + (\\bar{x}-2)^{2} + (\\bar{x}-3)^{2}+ (\\bar{x}-4)^{2}}{n-1}}$$\n",
        "\n",
        "$$ ⇒ s = \\sqrt{\\frac{(2.5-1)^{2} + (2.5-2)^{2} + (2.5-3)^{2}+ (2.5-4)^{2}}{3}}$$\n",
        "\n",
        "$$ ⇒ s ≈ 1.291$$\n",
        "\n",
        "\n",
        "El valor critico $t$ para un nivel de confianza del 90%\n",
        "$$ t_{\\frac{α}{2}, n-1} = t_{.05, 3} ≈ 2.35$$\n",
        "\n",
        "Nuestro intervalo de confianza esta dado por\n",
        "$$ IC = (\\bar{x}-t\\frac{s}{\\sqrt{n}}, \\bar{x}+t\\frac{s}{\\sqrt{n}})$$\n",
        "\n",
        "$$ IC = (2.5-(2.35)\\frac{1.291}{\\sqrt{4}}, 2.5+(2.35)\\frac{1.291}{\\sqrt{4}})$$\n",
        "\n",
        "Por lo tanto, el IC al 90% de confianza es aproximadamente $(0.983, 4.016)$ para la media con σ desconocida\n",
        "\n"
      ],
      "metadata": {
        "id": "Yt52v6XSS5qS"
      }
    },
    {
      "cell_type": "code",
      "source": [
        "data = [1,2,3,4]\n",
        "confidence = 0.90\n",
        "gl = len(data) - 1\n",
        "mean = np.mean(data)\n",
        "error_est = st.sem(data)\n",
        "\n",
        "# Intervalo para la media\n",
        "\n",
        "IC = st.t.interval(confidence,gl,loc=mean,scale=error_est)\n",
        "print(\"El intervalo del 90% de confianza para el peso medio de la poblacion es:\", IC)"
      ],
      "metadata": {
        "colab": {
          "base_uri": "https://localhost:8080/"
        },
        "id": "TEQBP5nBGQCT",
        "outputId": "eaf9530a-cbad-42fc-e623-510d31100d5c"
      },
      "execution_count": 8,
      "outputs": [
        {
          "output_type": "stream",
          "name": "stdout",
          "text": [
            "El intervalo del 90% de confianza para el peso medio de la poblacion es: (0.9809104349065063, 4.019089565093493)\n"
          ]
        }
      ]
    },
    {
      "cell_type": "markdown",
      "source": [
        "## 2.3 Estimación de $σ^{2}$\n",
        "\n",
        "Sabemos que el tamaño de la muestra $n = 4 $ y la media muestral es $\\bar{x}=2.5 $\n",
        "\n",
        "Calculemos $s^{2}$ de la muestra\n",
        "\n",
        "$$ ⇒ s^{2} = \\frac{(\\bar{x}-1)^{2} + (\\bar{x}-2)^{2} + (\\bar{x}-3)^{2}+ (\\bar{x}-4)^{2}}{n-1}$$\n",
        "\n",
        "$$ ⇒ s^{2} = \\frac{2.25+.25+.25+2.25}{3}$$\n",
        "\n",
        "$$ ⇒ s^{2} = \\frac{5}{3}$$\n",
        "\n",
        "\n",
        "Los valores criticos de $χ^{2}$ para un nivel de confianza del 90% son\n",
        "$$ χ^{2}_{\\frac{α}{2}, n-1} = χ^{2}_{.05, 3} ≈ 7.81$$\n",
        "\n",
        "$$ χ^{2}_{1-\\frac{α}{2}, n-1} = χ^{2}_{.95, 3} ≈ .35$$\n",
        "\n",
        "Nuestro intervalo de confianza esta dado por\n",
        "$$ IC = (\\frac{(n-1)s^{2}}{χ^{2}_{\\frac{α}{2}, n-1}}, \\frac{(n-1)s^{2}}{χ^{2}_{1-\\frac{α}{2}, n-1}})$$\n",
        "\n",
        "$$ IC = (\\frac{(3)\\frac{5}{3}}{7.81}, \\frac{(3)\\frac{5}{3}}{.35})$$\n",
        "\n",
        "Por lo tanto, el IC al 90% de confianza es aproximadamente $(0.64, 14.28)$ para $σ^{2}$"
      ],
      "metadata": {
        "id": "apskGOtwS5_2"
      }
    },
    {
      "cell_type": "code",
      "source": [
        "# Varianza muestral\n",
        "s2 = np.var(data, ddof=1)  # ddof=1 para la varianza muestral\n",
        "\n",
        "# Nivel de confianza\n",
        "alpha = 1-confidence\n",
        "\n",
        "# Valores críticos de chi-cuadrado\n",
        "chi2_lower = st.chi2.ppf(1 - alpha / 2, n - 1)\n",
        "chi2_upper = st.chi2.ppf(alpha / 2, n - 1)\n",
        "\n",
        "# Calcular el intervalo de confianza para la varianza\n",
        "conf_int = ( (n - 1) * s2 / chi2_lower, (n - 1) * s2 / chi2_upper)\n",
        "\n",
        "print(\"Intervalo de confianza para sigma^2:\", conf_int)"
      ],
      "metadata": {
        "colab": {
          "base_uri": "https://localhost:8080/"
        },
        "id": "4zVI2pnUGZkf",
        "outputId": "f304c941-13a6-4e82-9d30-84c28970b011"
      },
      "execution_count": 9,
      "outputs": [
        {
          "output_type": "stream",
          "name": "stdout",
          "text": [
            "Intervalo de confianza para sigma^2: (0.6398175421974498, 14.210749829597598)\n"
          ]
        }
      ]
    }
  ]
}